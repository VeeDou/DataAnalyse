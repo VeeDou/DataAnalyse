{
 "cells": [
  {
   "cell_type": "markdown",
   "metadata": {},
   "source": [
    "### 数据挖掘大致流程\n",
    "1. **数据探索性分析 👈**\n",
    "2. 特征工程\n",
    "3. 建模调参\n",
    "4. 模型融合\n\n",    
    "### 当前阶段目标——了解数据\n",
    "1. 了解数据全局属性：类型、大小\n",
    "2. 了解数据分布\n",
    "3. 初步分离出重要的特征\n",
    "4. 进行独立性和相关性分析"
   ]
  },
  {
   "cell_type": "code",
   "execution_count": 68,
   "metadata": {},
   "outputs": [],
   "source": [
    "import pandas as pd\n",
    "%matplotlib inline\n",
    "pd.set_option('display.max_columns', None)\n",
    "import seaborn as sns"
   ]
  },
  {
   "cell_type": "code",
   "execution_count": 3,
   "metadata": {},
   "outputs": [],
   "source": [
    "train_data = pd.read_csv('used_car_train_20200313.csv',sep=' ')\n",
    "test_data = pd.read_csv('used_car_testA_20200313.csv',sep=' ')"
   ]
  },
  {
   "cell_type": "code",
   "execution_count": 96,
   "metadata": {},
   "outputs": [
    {
     "data": {
      "text/plain": [
       "(150000, 31)"
      ]
     },
     "execution_count": 96,
     "metadata": {},
     "output_type": "execute_result"
    }
   ],
   "source": [
    "train_data.shape"
   ]
  },
  {
   "cell_type": "code",
   "execution_count": 95,
   "metadata": {},
   "outputs": [],
   "source": [
    "# 去重后还是一样\n",
    "train_data.drop_duplicates(subset=None, keep='first', inplace=True)"
   ]
  },
  {
   "cell_type": "code",
   "execution_count": 4,
   "metadata": {},
   "outputs": [
    {
     "name": "stdout",
     "output_type": "stream",
     "text": [
      "<class 'pandas.core.frame.DataFrame'>\n",
      "RangeIndex: 150000 entries, 0 to 149999\n",
      "Data columns (total 31 columns):\n",
      "SaleID               150000 non-null int64\n",
      "name                 150000 non-null int64\n",
      "regDate              150000 non-null int64\n",
      "model                149999 non-null float64\n",
      "brand                150000 non-null int64\n",
      "bodyType             145494 non-null float64\n",
      "fuelType             141320 non-null float64\n",
      "gearbox              144019 non-null float64\n",
      "power                150000 non-null int64\n",
      "kilometer            150000 non-null float64\n",
      "notRepairedDamage    150000 non-null object\n",
      "regionCode           150000 non-null int64\n",
      "seller               150000 non-null int64\n",
      "offerType            150000 non-null int64\n",
      "creatDate            150000 non-null int64\n",
      "price                150000 non-null int64\n",
      "v_0                  150000 non-null float64\n",
      "v_1                  150000 non-null float64\n",
      "v_2                  150000 non-null float64\n",
      "v_3                  150000 non-null float64\n",
      "v_4                  150000 non-null float64\n",
      "v_5                  150000 non-null float64\n",
      "v_6                  150000 non-null float64\n",
      "v_7                  150000 non-null float64\n",
      "v_8                  150000 non-null float64\n",
      "v_9                  150000 non-null float64\n",
      "v_10                 150000 non-null float64\n",
      "v_11                 150000 non-null float64\n",
      "v_12                 150000 non-null float64\n",
      "v_13                 150000 non-null float64\n",
      "v_14                 150000 non-null float64\n",
      "dtypes: float64(20), int64(10), object(1)\n",
      "memory usage: 35.5+ MB\n"
     ]
    }
   ],
   "source": [
    "train_data.info()"
   ]
  },
  {
   "cell_type": "markdown",
   "metadata": {},
   "source": [
    "### 字段统计信息\n",
    "1. 可以发现以下四个字段存在空值（如果选取这些字段作为模型的输入变量，则需要着重处理这些空值）：    \n",
    "**model bodyType fuelType gearbox**    \n",
    "如何处理空值，见特征工程部分：https://zhuanlan.zhihu.com/p/93428394\n",
    "2. 数据集大小为：35.5M 15000行、31列"
   ]
  },
  {
   "cell_type": "code",
   "execution_count": 5,
   "metadata": {},
   "outputs": [
    {
     "data": {
      "text/html": [
       "<div>\n",
       "<style scoped>\n",
       "    .dataframe tbody tr th:only-of-type {\n",
       "        vertical-align: middle;\n",
       "    }\n",
       "\n",
       "    .dataframe tbody tr th {\n",
       "        vertical-align: top;\n",
       "    }\n",
       "\n",
       "    .dataframe thead th {\n",
       "        text-align: right;\n",
       "    }\n",
       "</style>\n",
       "<table border=\"1\" class=\"dataframe\">\n",
       "  <thead>\n",
       "    <tr style=\"text-align: right;\">\n",
       "      <th></th>\n",
       "      <th>SaleID</th>\n",
       "      <th>name</th>\n",
       "      <th>regDate</th>\n",
       "      <th>model</th>\n",
       "      <th>brand</th>\n",
       "      <th>bodyType</th>\n",
       "      <th>fuelType</th>\n",
       "      <th>gearbox</th>\n",
       "      <th>power</th>\n",
       "      <th>kilometer</th>\n",
       "      <th>notRepairedDamage</th>\n",
       "      <th>regionCode</th>\n",
       "      <th>seller</th>\n",
       "      <th>offerType</th>\n",
       "      <th>creatDate</th>\n",
       "      <th>price</th>\n",
       "      <th>v_0</th>\n",
       "      <th>v_1</th>\n",
       "      <th>v_2</th>\n",
       "      <th>v_3</th>\n",
       "      <th>v_4</th>\n",
       "      <th>v_5</th>\n",
       "      <th>v_6</th>\n",
       "      <th>v_7</th>\n",
       "      <th>v_8</th>\n",
       "      <th>v_9</th>\n",
       "      <th>v_10</th>\n",
       "      <th>v_11</th>\n",
       "      <th>v_12</th>\n",
       "      <th>v_13</th>\n",
       "      <th>v_14</th>\n",
       "    </tr>\n",
       "  </thead>\n",
       "  <tbody>\n",
       "    <tr>\n",
       "      <td>0</td>\n",
       "      <td>0</td>\n",
       "      <td>736</td>\n",
       "      <td>20040402</td>\n",
       "      <td>30.0</td>\n",
       "      <td>6</td>\n",
       "      <td>1.0</td>\n",
       "      <td>0.0</td>\n",
       "      <td>0.0</td>\n",
       "      <td>60</td>\n",
       "      <td>12.5</td>\n",
       "      <td>0.0</td>\n",
       "      <td>1046</td>\n",
       "      <td>0</td>\n",
       "      <td>0</td>\n",
       "      <td>20160404</td>\n",
       "      <td>1850</td>\n",
       "      <td>43.357796</td>\n",
       "      <td>3.966344</td>\n",
       "      <td>0.050257</td>\n",
       "      <td>2.159744</td>\n",
       "      <td>1.143786</td>\n",
       "      <td>0.235676</td>\n",
       "      <td>0.101988</td>\n",
       "      <td>0.129549</td>\n",
       "      <td>0.022816</td>\n",
       "      <td>0.097462</td>\n",
       "      <td>-2.881803</td>\n",
       "      <td>2.804097</td>\n",
       "      <td>-2.420821</td>\n",
       "      <td>0.795292</td>\n",
       "      <td>0.914762</td>\n",
       "    </tr>\n",
       "    <tr>\n",
       "      <td>1</td>\n",
       "      <td>1</td>\n",
       "      <td>2262</td>\n",
       "      <td>20030301</td>\n",
       "      <td>40.0</td>\n",
       "      <td>1</td>\n",
       "      <td>2.0</td>\n",
       "      <td>0.0</td>\n",
       "      <td>0.0</td>\n",
       "      <td>0</td>\n",
       "      <td>15.0</td>\n",
       "      <td>-</td>\n",
       "      <td>4366</td>\n",
       "      <td>0</td>\n",
       "      <td>0</td>\n",
       "      <td>20160309</td>\n",
       "      <td>3600</td>\n",
       "      <td>45.305273</td>\n",
       "      <td>5.236112</td>\n",
       "      <td>0.137925</td>\n",
       "      <td>1.380657</td>\n",
       "      <td>-1.422165</td>\n",
       "      <td>0.264777</td>\n",
       "      <td>0.121004</td>\n",
       "      <td>0.135731</td>\n",
       "      <td>0.026597</td>\n",
       "      <td>0.020582</td>\n",
       "      <td>-4.900482</td>\n",
       "      <td>2.096338</td>\n",
       "      <td>-1.030483</td>\n",
       "      <td>-1.722674</td>\n",
       "      <td>0.245522</td>\n",
       "    </tr>\n",
       "    <tr>\n",
       "      <td>2</td>\n",
       "      <td>2</td>\n",
       "      <td>14874</td>\n",
       "      <td>20040403</td>\n",
       "      <td>115.0</td>\n",
       "      <td>15</td>\n",
       "      <td>1.0</td>\n",
       "      <td>0.0</td>\n",
       "      <td>0.0</td>\n",
       "      <td>163</td>\n",
       "      <td>12.5</td>\n",
       "      <td>0.0</td>\n",
       "      <td>2806</td>\n",
       "      <td>0</td>\n",
       "      <td>0</td>\n",
       "      <td>20160402</td>\n",
       "      <td>6222</td>\n",
       "      <td>45.978359</td>\n",
       "      <td>4.823792</td>\n",
       "      <td>1.319524</td>\n",
       "      <td>-0.998467</td>\n",
       "      <td>-0.996911</td>\n",
       "      <td>0.251410</td>\n",
       "      <td>0.114912</td>\n",
       "      <td>0.165147</td>\n",
       "      <td>0.062173</td>\n",
       "      <td>0.027075</td>\n",
       "      <td>-4.846749</td>\n",
       "      <td>1.803559</td>\n",
       "      <td>1.565330</td>\n",
       "      <td>-0.832687</td>\n",
       "      <td>-0.229963</td>\n",
       "    </tr>\n",
       "    <tr>\n",
       "      <td>3</td>\n",
       "      <td>3</td>\n",
       "      <td>71865</td>\n",
       "      <td>19960908</td>\n",
       "      <td>109.0</td>\n",
       "      <td>10</td>\n",
       "      <td>0.0</td>\n",
       "      <td>0.0</td>\n",
       "      <td>1.0</td>\n",
       "      <td>193</td>\n",
       "      <td>15.0</td>\n",
       "      <td>0.0</td>\n",
       "      <td>434</td>\n",
       "      <td>0</td>\n",
       "      <td>0</td>\n",
       "      <td>20160312</td>\n",
       "      <td>2400</td>\n",
       "      <td>45.687478</td>\n",
       "      <td>4.492574</td>\n",
       "      <td>-0.050616</td>\n",
       "      <td>0.883600</td>\n",
       "      <td>-2.228079</td>\n",
       "      <td>0.274293</td>\n",
       "      <td>0.110300</td>\n",
       "      <td>0.121964</td>\n",
       "      <td>0.033395</td>\n",
       "      <td>0.000000</td>\n",
       "      <td>-4.509599</td>\n",
       "      <td>1.285940</td>\n",
       "      <td>-0.501868</td>\n",
       "      <td>-2.438353</td>\n",
       "      <td>-0.478699</td>\n",
       "    </tr>\n",
       "    <tr>\n",
       "      <td>4</td>\n",
       "      <td>4</td>\n",
       "      <td>111080</td>\n",
       "      <td>20120103</td>\n",
       "      <td>110.0</td>\n",
       "      <td>5</td>\n",
       "      <td>1.0</td>\n",
       "      <td>0.0</td>\n",
       "      <td>0.0</td>\n",
       "      <td>68</td>\n",
       "      <td>5.0</td>\n",
       "      <td>0.0</td>\n",
       "      <td>6977</td>\n",
       "      <td>0</td>\n",
       "      <td>0</td>\n",
       "      <td>20160313</td>\n",
       "      <td>5200</td>\n",
       "      <td>44.383511</td>\n",
       "      <td>2.031433</td>\n",
       "      <td>0.572169</td>\n",
       "      <td>-1.571239</td>\n",
       "      <td>2.246088</td>\n",
       "      <td>0.228036</td>\n",
       "      <td>0.073205</td>\n",
       "      <td>0.091880</td>\n",
       "      <td>0.078819</td>\n",
       "      <td>0.121534</td>\n",
       "      <td>-1.896240</td>\n",
       "      <td>0.910783</td>\n",
       "      <td>0.931110</td>\n",
       "      <td>2.834518</td>\n",
       "      <td>1.923482</td>\n",
       "    </tr>\n",
       "  </tbody>\n",
       "</table>\n",
       "</div>"
      ],
      "text/plain": [
       "   SaleID    name   regDate  model  brand  bodyType  fuelType  gearbox  power  \\\n",
       "0       0     736  20040402   30.0      6       1.0       0.0      0.0     60   \n",
       "1       1    2262  20030301   40.0      1       2.0       0.0      0.0      0   \n",
       "2       2   14874  20040403  115.0     15       1.0       0.0      0.0    163   \n",
       "3       3   71865  19960908  109.0     10       0.0       0.0      1.0    193   \n",
       "4       4  111080  20120103  110.0      5       1.0       0.0      0.0     68   \n",
       "\n",
       "   kilometer notRepairedDamage  regionCode  seller  offerType  creatDate  \\\n",
       "0       12.5               0.0        1046       0          0   20160404   \n",
       "1       15.0                 -        4366       0          0   20160309   \n",
       "2       12.5               0.0        2806       0          0   20160402   \n",
       "3       15.0               0.0         434       0          0   20160312   \n",
       "4        5.0               0.0        6977       0          0   20160313   \n",
       "\n",
       "   price        v_0       v_1       v_2       v_3       v_4       v_5  \\\n",
       "0   1850  43.357796  3.966344  0.050257  2.159744  1.143786  0.235676   \n",
       "1   3600  45.305273  5.236112  0.137925  1.380657 -1.422165  0.264777   \n",
       "2   6222  45.978359  4.823792  1.319524 -0.998467 -0.996911  0.251410   \n",
       "3   2400  45.687478  4.492574 -0.050616  0.883600 -2.228079  0.274293   \n",
       "4   5200  44.383511  2.031433  0.572169 -1.571239  2.246088  0.228036   \n",
       "\n",
       "        v_6       v_7       v_8       v_9      v_10      v_11      v_12  \\\n",
       "0  0.101988  0.129549  0.022816  0.097462 -2.881803  2.804097 -2.420821   \n",
       "1  0.121004  0.135731  0.026597  0.020582 -4.900482  2.096338 -1.030483   \n",
       "2  0.114912  0.165147  0.062173  0.027075 -4.846749  1.803559  1.565330   \n",
       "3  0.110300  0.121964  0.033395  0.000000 -4.509599  1.285940 -0.501868   \n",
       "4  0.073205  0.091880  0.078819  0.121534 -1.896240  0.910783  0.931110   \n",
       "\n",
       "       v_13      v_14  \n",
       "0  0.795292  0.914762  \n",
       "1 -1.722674  0.245522  \n",
       "2 -0.832687 -0.229963  \n",
       "3 -2.438353 -0.478699  \n",
       "4  2.834518  1.923482  "
      ]
     },
     "execution_count": 5,
     "metadata": {},
     "output_type": "execute_result"
    }
   ],
   "source": [
    "# 查看具体数据\n",
    "train_data.head()"
   ]
  },
  {
   "cell_type": "code",
   "execution_count": 6,
   "metadata": {},
   "outputs": [
    {
     "data": {
      "text/html": [
       "<div>\n",
       "<style scoped>\n",
       "    .dataframe tbody tr th:only-of-type {\n",
       "        vertical-align: middle;\n",
       "    }\n",
       "\n",
       "    .dataframe tbody tr th {\n",
       "        vertical-align: top;\n",
       "    }\n",
       "\n",
       "    .dataframe thead th {\n",
       "        text-align: right;\n",
       "    }\n",
       "</style>\n",
       "<table border=\"1\" class=\"dataframe\">\n",
       "  <thead>\n",
       "    <tr style=\"text-align: right;\">\n",
       "      <th></th>\n",
       "      <th>SaleID</th>\n",
       "      <th>name</th>\n",
       "      <th>regDate</th>\n",
       "      <th>model</th>\n",
       "      <th>brand</th>\n",
       "      <th>bodyType</th>\n",
       "      <th>fuelType</th>\n",
       "      <th>gearbox</th>\n",
       "      <th>power</th>\n",
       "      <th>kilometer</th>\n",
       "      <th>notRepairedDamage</th>\n",
       "      <th>regionCode</th>\n",
       "      <th>seller</th>\n",
       "      <th>offerType</th>\n",
       "      <th>creatDate</th>\n",
       "      <th>price</th>\n",
       "      <th>v_0</th>\n",
       "      <th>v_1</th>\n",
       "      <th>v_2</th>\n",
       "      <th>v_3</th>\n",
       "      <th>v_4</th>\n",
       "      <th>v_5</th>\n",
       "      <th>v_6</th>\n",
       "      <th>v_7</th>\n",
       "      <th>v_8</th>\n",
       "      <th>v_9</th>\n",
       "      <th>v_10</th>\n",
       "      <th>v_11</th>\n",
       "      <th>v_12</th>\n",
       "      <th>v_13</th>\n",
       "      <th>v_14</th>\n",
       "    </tr>\n",
       "  </thead>\n",
       "  <tbody>\n",
       "    <tr>\n",
       "      <td>149995</td>\n",
       "      <td>149995</td>\n",
       "      <td>163978</td>\n",
       "      <td>20000607</td>\n",
       "      <td>121.0</td>\n",
       "      <td>10</td>\n",
       "      <td>4.0</td>\n",
       "      <td>0.0</td>\n",
       "      <td>1.0</td>\n",
       "      <td>163</td>\n",
       "      <td>15.0</td>\n",
       "      <td>0.0</td>\n",
       "      <td>4576</td>\n",
       "      <td>0</td>\n",
       "      <td>0</td>\n",
       "      <td>20160327</td>\n",
       "      <td>5900</td>\n",
       "      <td>45.316543</td>\n",
       "      <td>-3.139095</td>\n",
       "      <td>-1.269707</td>\n",
       "      <td>-0.736609</td>\n",
       "      <td>-1.505820</td>\n",
       "      <td>0.280264</td>\n",
       "      <td>0.000310</td>\n",
       "      <td>0.048441</td>\n",
       "      <td>0.071158</td>\n",
       "      <td>0.019174</td>\n",
       "      <td>1.988114</td>\n",
       "      <td>-2.983973</td>\n",
       "      <td>0.589167</td>\n",
       "      <td>-1.304370</td>\n",
       "      <td>-0.302592</td>\n",
       "    </tr>\n",
       "    <tr>\n",
       "      <td>149996</td>\n",
       "      <td>149996</td>\n",
       "      <td>184535</td>\n",
       "      <td>20091102</td>\n",
       "      <td>116.0</td>\n",
       "      <td>11</td>\n",
       "      <td>0.0</td>\n",
       "      <td>0.0</td>\n",
       "      <td>0.0</td>\n",
       "      <td>125</td>\n",
       "      <td>10.0</td>\n",
       "      <td>0.0</td>\n",
       "      <td>2826</td>\n",
       "      <td>0</td>\n",
       "      <td>0</td>\n",
       "      <td>20160312</td>\n",
       "      <td>9500</td>\n",
       "      <td>45.972058</td>\n",
       "      <td>-3.143764</td>\n",
       "      <td>-0.023523</td>\n",
       "      <td>-2.366699</td>\n",
       "      <td>0.698012</td>\n",
       "      <td>0.253217</td>\n",
       "      <td>0.000777</td>\n",
       "      <td>0.084079</td>\n",
       "      <td>0.099681</td>\n",
       "      <td>0.079371</td>\n",
       "      <td>1.839166</td>\n",
       "      <td>-2.774615</td>\n",
       "      <td>2.553994</td>\n",
       "      <td>0.924196</td>\n",
       "      <td>-0.272160</td>\n",
       "    </tr>\n",
       "    <tr>\n",
       "      <td>149997</td>\n",
       "      <td>149997</td>\n",
       "      <td>147587</td>\n",
       "      <td>20101003</td>\n",
       "      <td>60.0</td>\n",
       "      <td>11</td>\n",
       "      <td>1.0</td>\n",
       "      <td>1.0</td>\n",
       "      <td>0.0</td>\n",
       "      <td>90</td>\n",
       "      <td>6.0</td>\n",
       "      <td>0.0</td>\n",
       "      <td>3302</td>\n",
       "      <td>0</td>\n",
       "      <td>0</td>\n",
       "      <td>20160328</td>\n",
       "      <td>7500</td>\n",
       "      <td>44.733481</td>\n",
       "      <td>-3.105721</td>\n",
       "      <td>0.595454</td>\n",
       "      <td>-2.279091</td>\n",
       "      <td>1.423661</td>\n",
       "      <td>0.233353</td>\n",
       "      <td>0.000705</td>\n",
       "      <td>0.118872</td>\n",
       "      <td>0.100118</td>\n",
       "      <td>0.097914</td>\n",
       "      <td>2.439812</td>\n",
       "      <td>-1.630677</td>\n",
       "      <td>2.290197</td>\n",
       "      <td>1.891922</td>\n",
       "      <td>0.414931</td>\n",
       "    </tr>\n",
       "    <tr>\n",
       "      <td>149998</td>\n",
       "      <td>149998</td>\n",
       "      <td>45907</td>\n",
       "      <td>20060312</td>\n",
       "      <td>34.0</td>\n",
       "      <td>10</td>\n",
       "      <td>3.0</td>\n",
       "      <td>1.0</td>\n",
       "      <td>0.0</td>\n",
       "      <td>156</td>\n",
       "      <td>15.0</td>\n",
       "      <td>0.0</td>\n",
       "      <td>1877</td>\n",
       "      <td>0</td>\n",
       "      <td>0</td>\n",
       "      <td>20160401</td>\n",
       "      <td>4999</td>\n",
       "      <td>45.658634</td>\n",
       "      <td>-3.204785</td>\n",
       "      <td>-0.441680</td>\n",
       "      <td>-1.179812</td>\n",
       "      <td>0.620680</td>\n",
       "      <td>0.256369</td>\n",
       "      <td>0.000252</td>\n",
       "      <td>0.081479</td>\n",
       "      <td>0.083558</td>\n",
       "      <td>0.081498</td>\n",
       "      <td>2.075380</td>\n",
       "      <td>-2.633719</td>\n",
       "      <td>1.414937</td>\n",
       "      <td>0.431981</td>\n",
       "      <td>-1.659014</td>\n",
       "    </tr>\n",
       "    <tr>\n",
       "      <td>149999</td>\n",
       "      <td>149999</td>\n",
       "      <td>177672</td>\n",
       "      <td>19990204</td>\n",
       "      <td>19.0</td>\n",
       "      <td>28</td>\n",
       "      <td>6.0</td>\n",
       "      <td>0.0</td>\n",
       "      <td>1.0</td>\n",
       "      <td>193</td>\n",
       "      <td>12.5</td>\n",
       "      <td>0.0</td>\n",
       "      <td>235</td>\n",
       "      <td>0</td>\n",
       "      <td>0</td>\n",
       "      <td>20160305</td>\n",
       "      <td>4700</td>\n",
       "      <td>45.536383</td>\n",
       "      <td>-3.200326</td>\n",
       "      <td>-1.612893</td>\n",
       "      <td>-0.067144</td>\n",
       "      <td>-1.396166</td>\n",
       "      <td>0.284475</td>\n",
       "      <td>0.000000</td>\n",
       "      <td>0.040072</td>\n",
       "      <td>0.062543</td>\n",
       "      <td>0.025819</td>\n",
       "      <td>1.978453</td>\n",
       "      <td>-3.179913</td>\n",
       "      <td>0.031724</td>\n",
       "      <td>-1.483350</td>\n",
       "      <td>-0.342674</td>\n",
       "    </tr>\n",
       "  </tbody>\n",
       "</table>\n",
       "</div>"
      ],
      "text/plain": [
       "        SaleID    name   regDate  model  brand  bodyType  fuelType  gearbox  \\\n",
       "149995  149995  163978  20000607  121.0     10       4.0       0.0      1.0   \n",
       "149996  149996  184535  20091102  116.0     11       0.0       0.0      0.0   \n",
       "149997  149997  147587  20101003   60.0     11       1.0       1.0      0.0   \n",
       "149998  149998   45907  20060312   34.0     10       3.0       1.0      0.0   \n",
       "149999  149999  177672  19990204   19.0     28       6.0       0.0      1.0   \n",
       "\n",
       "        power  kilometer notRepairedDamage  regionCode  seller  offerType  \\\n",
       "149995    163       15.0               0.0        4576       0          0   \n",
       "149996    125       10.0               0.0        2826       0          0   \n",
       "149997     90        6.0               0.0        3302       0          0   \n",
       "149998    156       15.0               0.0        1877       0          0   \n",
       "149999    193       12.5               0.0         235       0          0   \n",
       "\n",
       "        creatDate  price        v_0       v_1       v_2       v_3       v_4  \\\n",
       "149995   20160327   5900  45.316543 -3.139095 -1.269707 -0.736609 -1.505820   \n",
       "149996   20160312   9500  45.972058 -3.143764 -0.023523 -2.366699  0.698012   \n",
       "149997   20160328   7500  44.733481 -3.105721  0.595454 -2.279091  1.423661   \n",
       "149998   20160401   4999  45.658634 -3.204785 -0.441680 -1.179812  0.620680   \n",
       "149999   20160305   4700  45.536383 -3.200326 -1.612893 -0.067144 -1.396166   \n",
       "\n",
       "             v_5       v_6       v_7       v_8       v_9      v_10      v_11  \\\n",
       "149995  0.280264  0.000310  0.048441  0.071158  0.019174  1.988114 -2.983973   \n",
       "149996  0.253217  0.000777  0.084079  0.099681  0.079371  1.839166 -2.774615   \n",
       "149997  0.233353  0.000705  0.118872  0.100118  0.097914  2.439812 -1.630677   \n",
       "149998  0.256369  0.000252  0.081479  0.083558  0.081498  2.075380 -2.633719   \n",
       "149999  0.284475  0.000000  0.040072  0.062543  0.025819  1.978453 -3.179913   \n",
       "\n",
       "            v_12      v_13      v_14  \n",
       "149995  0.589167 -1.304370 -0.302592  \n",
       "149996  2.553994  0.924196 -0.272160  \n",
       "149997  2.290197  1.891922  0.414931  \n",
       "149998  1.414937  0.431981 -1.659014  \n",
       "149999  0.031724 -1.483350 -0.342674  "
      ]
     },
     "execution_count": 6,
     "metadata": {},
     "output_type": "execute_result"
    }
   ],
   "source": [
    "train_data.tail()"
   ]
  },
  {
   "cell_type": "code",
   "execution_count": 7,
   "metadata": {},
   "outputs": [
    {
     "data": {
      "text/html": [
       "<div>\n",
       "<style scoped>\n",
       "    .dataframe tbody tr th:only-of-type {\n",
       "        vertical-align: middle;\n",
       "    }\n",
       "\n",
       "    .dataframe tbody tr th {\n",
       "        vertical-align: top;\n",
       "    }\n",
       "\n",
       "    .dataframe thead th {\n",
       "        text-align: right;\n",
       "    }\n",
       "</style>\n",
       "<table border=\"1\" class=\"dataframe\">\n",
       "  <thead>\n",
       "    <tr style=\"text-align: right;\">\n",
       "      <th></th>\n",
       "      <th>SaleID</th>\n",
       "      <th>name</th>\n",
       "      <th>regDate</th>\n",
       "      <th>model</th>\n",
       "      <th>brand</th>\n",
       "      <th>bodyType</th>\n",
       "      <th>fuelType</th>\n",
       "      <th>gearbox</th>\n",
       "      <th>power</th>\n",
       "      <th>kilometer</th>\n",
       "      <th>notRepairedDamage</th>\n",
       "      <th>regionCode</th>\n",
       "      <th>seller</th>\n",
       "      <th>offerType</th>\n",
       "      <th>creatDate</th>\n",
       "      <th>price</th>\n",
       "      <th>v_0</th>\n",
       "      <th>v_1</th>\n",
       "      <th>v_2</th>\n",
       "      <th>v_3</th>\n",
       "      <th>v_4</th>\n",
       "      <th>v_5</th>\n",
       "      <th>v_6</th>\n",
       "      <th>v_7</th>\n",
       "      <th>v_8</th>\n",
       "      <th>v_9</th>\n",
       "      <th>v_10</th>\n",
       "      <th>v_11</th>\n",
       "      <th>v_12</th>\n",
       "      <th>v_13</th>\n",
       "      <th>v_14</th>\n",
       "    </tr>\n",
       "  </thead>\n",
       "  <tbody>\n",
       "    <tr>\n",
       "      <td>26258</td>\n",
       "      <td>26258</td>\n",
       "      <td>34161</td>\n",
       "      <td>19990406</td>\n",
       "      <td>33.0</td>\n",
       "      <td>10</td>\n",
       "      <td>3.0</td>\n",
       "      <td>1.0</td>\n",
       "      <td>0.0</td>\n",
       "      <td>102</td>\n",
       "      <td>15.0</td>\n",
       "      <td>0.0</td>\n",
       "      <td>5177</td>\n",
       "      <td>0</td>\n",
       "      <td>0</td>\n",
       "      <td>20160305</td>\n",
       "      <td>4000</td>\n",
       "      <td>44.908598</td>\n",
       "      <td>2.638598</td>\n",
       "      <td>-0.691650</td>\n",
       "      <td>0.497214</td>\n",
       "      <td>-1.416056</td>\n",
       "      <td>0.271939</td>\n",
       "      <td>0.082648</td>\n",
       "      <td>0.074568</td>\n",
       "      <td>0.041895</td>\n",
       "      <td>0.022178</td>\n",
       "      <td>-2.727565</td>\n",
       "      <td>0.375966</td>\n",
       "      <td>-0.779525</td>\n",
       "      <td>-1.377208</td>\n",
       "      <td>-0.357449</td>\n",
       "    </tr>\n",
       "    <tr>\n",
       "      <td>17872</td>\n",
       "      <td>17872</td>\n",
       "      <td>14969</td>\n",
       "      <td>20061108</td>\n",
       "      <td>87.0</td>\n",
       "      <td>3</td>\n",
       "      <td>2.0</td>\n",
       "      <td>0.0</td>\n",
       "      <td>1.0</td>\n",
       "      <td>150</td>\n",
       "      <td>12.5</td>\n",
       "      <td>1.0</td>\n",
       "      <td>5762</td>\n",
       "      <td>0</td>\n",
       "      <td>0</td>\n",
       "      <td>20160319</td>\n",
       "      <td>2500</td>\n",
       "      <td>45.938591</td>\n",
       "      <td>4.809214</td>\n",
       "      <td>0.418792</td>\n",
       "      <td>-0.551480</td>\n",
       "      <td>1.210327</td>\n",
       "      <td>0.246010</td>\n",
       "      <td>0.114495</td>\n",
       "      <td>0.098054</td>\n",
       "      <td>0.058175</td>\n",
       "      <td>0.097805</td>\n",
       "      <td>-4.913819</td>\n",
       "      <td>1.360098</td>\n",
       "      <td>0.603305</td>\n",
       "      <td>0.829240</td>\n",
       "      <td>-2.132261</td>\n",
       "    </tr>\n",
       "    <tr>\n",
       "      <td>46553</td>\n",
       "      <td>46553</td>\n",
       "      <td>180513</td>\n",
       "      <td>20021107</td>\n",
       "      <td>19.0</td>\n",
       "      <td>21</td>\n",
       "      <td>0.0</td>\n",
       "      <td>2.0</td>\n",
       "      <td>0.0</td>\n",
       "      <td>0</td>\n",
       "      <td>15.0</td>\n",
       "      <td>0.0</td>\n",
       "      <td>4100</td>\n",
       "      <td>0</td>\n",
       "      <td>0</td>\n",
       "      <td>20160404</td>\n",
       "      <td>1699</td>\n",
       "      <td>44.043959</td>\n",
       "      <td>-3.196976</td>\n",
       "      <td>-0.957222</td>\n",
       "      <td>0.941223</td>\n",
       "      <td>-0.817727</td>\n",
       "      <td>0.263217</td>\n",
       "      <td>0.000000</td>\n",
       "      <td>0.097725</td>\n",
       "      <td>0.051169</td>\n",
       "      <td>0.042333</td>\n",
       "      <td>2.818596</td>\n",
       "      <td>-1.680828</td>\n",
       "      <td>-0.869253</td>\n",
       "      <td>-1.055412</td>\n",
       "      <td>-0.096735</td>\n",
       "    </tr>\n",
       "    <tr>\n",
       "      <td>66260</td>\n",
       "      <td>66260</td>\n",
       "      <td>56676</td>\n",
       "      <td>20050206</td>\n",
       "      <td>106.0</td>\n",
       "      <td>6</td>\n",
       "      <td>3.0</td>\n",
       "      <td>1.0</td>\n",
       "      <td>1.0</td>\n",
       "      <td>116</td>\n",
       "      <td>15.0</td>\n",
       "      <td>0.0</td>\n",
       "      <td>24</td>\n",
       "      <td>0</td>\n",
       "      <td>0</td>\n",
       "      <td>20160405</td>\n",
       "      <td>4700</td>\n",
       "      <td>44.471217</td>\n",
       "      <td>4.149710</td>\n",
       "      <td>-0.794722</td>\n",
       "      <td>0.293356</td>\n",
       "      <td>0.537596</td>\n",
       "      <td>0.257654</td>\n",
       "      <td>0.103367</td>\n",
       "      <td>0.037676</td>\n",
       "      <td>0.043366</td>\n",
       "      <td>0.079034</td>\n",
       "      <td>-3.909114</td>\n",
       "      <td>1.188490</td>\n",
       "      <td>-1.225629</td>\n",
       "      <td>0.678279</td>\n",
       "      <td>0.018959</td>\n",
       "    </tr>\n",
       "    <tr>\n",
       "      <td>60406</td>\n",
       "      <td>60406</td>\n",
       "      <td>29654</td>\n",
       "      <td>20100902</td>\n",
       "      <td>44.0</td>\n",
       "      <td>0</td>\n",
       "      <td>3.0</td>\n",
       "      <td>1.0</td>\n",
       "      <td>0.0</td>\n",
       "      <td>140</td>\n",
       "      <td>15.0</td>\n",
       "      <td>0.0</td>\n",
       "      <td>1621</td>\n",
       "      <td>0</td>\n",
       "      <td>0</td>\n",
       "      <td>20160308</td>\n",
       "      <td>11500</td>\n",
       "      <td>46.528365</td>\n",
       "      <td>-3.178857</td>\n",
       "      <td>0.039542</td>\n",
       "      <td>-2.584445</td>\n",
       "      <td>-0.693174</td>\n",
       "      <td>0.265826</td>\n",
       "      <td>0.000589</td>\n",
       "      <td>0.096144</td>\n",
       "      <td>0.100697</td>\n",
       "      <td>0.036567</td>\n",
       "      <td>1.620454</td>\n",
       "      <td>-3.125062</td>\n",
       "      <td>3.040120</td>\n",
       "      <td>-0.270950</td>\n",
       "      <td>0.516714</td>\n",
       "    </tr>\n",
       "  </tbody>\n",
       "</table>\n",
       "</div>"
      ],
      "text/plain": [
       "       SaleID    name   regDate  model  brand  bodyType  fuelType  gearbox  \\\n",
       "26258   26258   34161  19990406   33.0     10       3.0       1.0      0.0   \n",
       "17872   17872   14969  20061108   87.0      3       2.0       0.0      1.0   \n",
       "46553   46553  180513  20021107   19.0     21       0.0       2.0      0.0   \n",
       "66260   66260   56676  20050206  106.0      6       3.0       1.0      1.0   \n",
       "60406   60406   29654  20100902   44.0      0       3.0       1.0      0.0   \n",
       "\n",
       "       power  kilometer notRepairedDamage  regionCode  seller  offerType  \\\n",
       "26258    102       15.0               0.0        5177       0          0   \n",
       "17872    150       12.5               1.0        5762       0          0   \n",
       "46553      0       15.0               0.0        4100       0          0   \n",
       "66260    116       15.0               0.0          24       0          0   \n",
       "60406    140       15.0               0.0        1621       0          0   \n",
       "\n",
       "       creatDate  price        v_0       v_1       v_2       v_3       v_4  \\\n",
       "26258   20160305   4000  44.908598  2.638598 -0.691650  0.497214 -1.416056   \n",
       "17872   20160319   2500  45.938591  4.809214  0.418792 -0.551480  1.210327   \n",
       "46553   20160404   1699  44.043959 -3.196976 -0.957222  0.941223 -0.817727   \n",
       "66260   20160405   4700  44.471217  4.149710 -0.794722  0.293356  0.537596   \n",
       "60406   20160308  11500  46.528365 -3.178857  0.039542 -2.584445 -0.693174   \n",
       "\n",
       "            v_5       v_6       v_7       v_8       v_9      v_10      v_11  \\\n",
       "26258  0.271939  0.082648  0.074568  0.041895  0.022178 -2.727565  0.375966   \n",
       "17872  0.246010  0.114495  0.098054  0.058175  0.097805 -4.913819  1.360098   \n",
       "46553  0.263217  0.000000  0.097725  0.051169  0.042333  2.818596 -1.680828   \n",
       "66260  0.257654  0.103367  0.037676  0.043366  0.079034 -3.909114  1.188490   \n",
       "60406  0.265826  0.000589  0.096144  0.100697  0.036567  1.620454 -3.125062   \n",
       "\n",
       "           v_12      v_13      v_14  \n",
       "26258 -0.779525 -1.377208 -0.357449  \n",
       "17872  0.603305  0.829240 -2.132261  \n",
       "46553 -0.869253 -1.055412 -0.096735  \n",
       "66260 -1.225629  0.678279  0.018959  \n",
       "60406  3.040120 -0.270950  0.516714  "
      ]
     },
     "execution_count": 7,
     "metadata": {},
     "output_type": "execute_result"
    }
   ],
   "source": [
    "train_data.sample(5)"
   ]
  },
  {
   "cell_type": "code",
   "execution_count": 78,
   "metadata": {},
   "outputs": [
    {
     "data": {
      "text/html": [
       "<div>\n",
       "<style scoped>\n",
       "    .dataframe tbody tr th:only-of-type {\n",
       "        vertical-align: middle;\n",
       "    }\n",
       "\n",
       "    .dataframe tbody tr th {\n",
       "        vertical-align: top;\n",
       "    }\n",
       "\n",
       "    .dataframe thead th {\n",
       "        text-align: right;\n",
       "    }\n",
       "</style>\n",
       "<table border=\"1\" class=\"dataframe\">\n",
       "  <thead>\n",
       "    <tr style=\"text-align: right;\">\n",
       "      <th></th>\n",
       "      <th>SaleID</th>\n",
       "      <th>name</th>\n",
       "      <th>regDate</th>\n",
       "      <th>model</th>\n",
       "      <th>brand</th>\n",
       "      <th>bodyType</th>\n",
       "      <th>fuelType</th>\n",
       "      <th>gearbox</th>\n",
       "      <th>power</th>\n",
       "      <th>kilometer</th>\n",
       "      <th>regionCode</th>\n",
       "      <th>seller</th>\n",
       "      <th>offerType</th>\n",
       "      <th>creatDate</th>\n",
       "      <th>price</th>\n",
       "      <th>v_0</th>\n",
       "      <th>v_1</th>\n",
       "      <th>v_2</th>\n",
       "      <th>v_3</th>\n",
       "      <th>v_4</th>\n",
       "      <th>v_5</th>\n",
       "      <th>v_6</th>\n",
       "      <th>v_7</th>\n",
       "      <th>v_8</th>\n",
       "      <th>v_9</th>\n",
       "      <th>v_10</th>\n",
       "      <th>v_11</th>\n",
       "      <th>v_12</th>\n",
       "      <th>v_13</th>\n",
       "      <th>v_14</th>\n",
       "    </tr>\n",
       "  </thead>\n",
       "  <tbody>\n",
       "    <tr>\n",
       "      <td>count</td>\n",
       "      <td>150000.000000</td>\n",
       "      <td>150000.000000</td>\n",
       "      <td>1.500000e+05</td>\n",
       "      <td>149999.000000</td>\n",
       "      <td>150000.000000</td>\n",
       "      <td>145494.000000</td>\n",
       "      <td>141320.000000</td>\n",
       "      <td>144019.000000</td>\n",
       "      <td>150000.000000</td>\n",
       "      <td>150000.000000</td>\n",
       "      <td>150000.000000</td>\n",
       "      <td>150000.000000</td>\n",
       "      <td>150000.0</td>\n",
       "      <td>1.500000e+05</td>\n",
       "      <td>150000.000000</td>\n",
       "      <td>150000.000000</td>\n",
       "      <td>150000.000000</td>\n",
       "      <td>150000.000000</td>\n",
       "      <td>150000.000000</td>\n",
       "      <td>150000.000000</td>\n",
       "      <td>150000.000000</td>\n",
       "      <td>150000.000000</td>\n",
       "      <td>150000.000000</td>\n",
       "      <td>150000.000000</td>\n",
       "      <td>150000.000000</td>\n",
       "      <td>150000.000000</td>\n",
       "      <td>150000.000000</td>\n",
       "      <td>150000.000000</td>\n",
       "      <td>150000.000000</td>\n",
       "      <td>150000.000000</td>\n",
       "    </tr>\n",
       "    <tr>\n",
       "      <td>mean</td>\n",
       "      <td>74999.500000</td>\n",
       "      <td>68349.172873</td>\n",
       "      <td>2.003417e+07</td>\n",
       "      <td>47.129021</td>\n",
       "      <td>8.052733</td>\n",
       "      <td>1.792369</td>\n",
       "      <td>0.375842</td>\n",
       "      <td>0.224943</td>\n",
       "      <td>119.316547</td>\n",
       "      <td>12.597160</td>\n",
       "      <td>2583.077267</td>\n",
       "      <td>0.000007</td>\n",
       "      <td>0.0</td>\n",
       "      <td>2.016033e+07</td>\n",
       "      <td>5923.327333</td>\n",
       "      <td>44.406268</td>\n",
       "      <td>-0.044809</td>\n",
       "      <td>0.080765</td>\n",
       "      <td>0.078833</td>\n",
       "      <td>0.017875</td>\n",
       "      <td>0.248204</td>\n",
       "      <td>0.044923</td>\n",
       "      <td>0.124692</td>\n",
       "      <td>0.058144</td>\n",
       "      <td>0.061996</td>\n",
       "      <td>-0.001000</td>\n",
       "      <td>0.009035</td>\n",
       "      <td>0.004813</td>\n",
       "      <td>0.000313</td>\n",
       "      <td>-0.000688</td>\n",
       "    </tr>\n",
       "    <tr>\n",
       "      <td>std</td>\n",
       "      <td>43301.414527</td>\n",
       "      <td>61103.875095</td>\n",
       "      <td>5.364988e+04</td>\n",
       "      <td>49.536040</td>\n",
       "      <td>7.864956</td>\n",
       "      <td>1.760640</td>\n",
       "      <td>0.548677</td>\n",
       "      <td>0.417546</td>\n",
       "      <td>177.168419</td>\n",
       "      <td>3.919576</td>\n",
       "      <td>1885.363218</td>\n",
       "      <td>0.002582</td>\n",
       "      <td>0.0</td>\n",
       "      <td>1.067328e+02</td>\n",
       "      <td>7501.998477</td>\n",
       "      <td>2.457548</td>\n",
       "      <td>3.641893</td>\n",
       "      <td>2.929618</td>\n",
       "      <td>2.026514</td>\n",
       "      <td>1.193661</td>\n",
       "      <td>0.045804</td>\n",
       "      <td>0.051743</td>\n",
       "      <td>0.201410</td>\n",
       "      <td>0.029186</td>\n",
       "      <td>0.035692</td>\n",
       "      <td>3.772386</td>\n",
       "      <td>3.286071</td>\n",
       "      <td>2.517478</td>\n",
       "      <td>1.288988</td>\n",
       "      <td>1.038685</td>\n",
       "    </tr>\n",
       "    <tr>\n",
       "      <td>min</td>\n",
       "      <td>0.000000</td>\n",
       "      <td>0.000000</td>\n",
       "      <td>1.991000e+07</td>\n",
       "      <td>0.000000</td>\n",
       "      <td>0.000000</td>\n",
       "      <td>0.000000</td>\n",
       "      <td>0.000000</td>\n",
       "      <td>0.000000</td>\n",
       "      <td>0.000000</td>\n",
       "      <td>0.500000</td>\n",
       "      <td>0.000000</td>\n",
       "      <td>0.000000</td>\n",
       "      <td>0.0</td>\n",
       "      <td>2.015062e+07</td>\n",
       "      <td>11.000000</td>\n",
       "      <td>30.451976</td>\n",
       "      <td>-4.295589</td>\n",
       "      <td>-4.470671</td>\n",
       "      <td>-7.275037</td>\n",
       "      <td>-4.364565</td>\n",
       "      <td>0.000000</td>\n",
       "      <td>0.000000</td>\n",
       "      <td>0.000000</td>\n",
       "      <td>0.000000</td>\n",
       "      <td>0.000000</td>\n",
       "      <td>-9.168192</td>\n",
       "      <td>-5.558207</td>\n",
       "      <td>-9.639552</td>\n",
       "      <td>-4.153899</td>\n",
       "      <td>-6.546556</td>\n",
       "    </tr>\n",
       "    <tr>\n",
       "      <td>25%</td>\n",
       "      <td>37499.750000</td>\n",
       "      <td>11156.000000</td>\n",
       "      <td>1.999091e+07</td>\n",
       "      <td>10.000000</td>\n",
       "      <td>1.000000</td>\n",
       "      <td>0.000000</td>\n",
       "      <td>0.000000</td>\n",
       "      <td>0.000000</td>\n",
       "      <td>75.000000</td>\n",
       "      <td>12.500000</td>\n",
       "      <td>1018.000000</td>\n",
       "      <td>0.000000</td>\n",
       "      <td>0.0</td>\n",
       "      <td>2.016031e+07</td>\n",
       "      <td>1300.000000</td>\n",
       "      <td>43.135799</td>\n",
       "      <td>-3.192349</td>\n",
       "      <td>-0.970671</td>\n",
       "      <td>-1.462580</td>\n",
       "      <td>-0.921191</td>\n",
       "      <td>0.243615</td>\n",
       "      <td>0.000038</td>\n",
       "      <td>0.062474</td>\n",
       "      <td>0.035334</td>\n",
       "      <td>0.033930</td>\n",
       "      <td>-3.722303</td>\n",
       "      <td>-1.951543</td>\n",
       "      <td>-1.871846</td>\n",
       "      <td>-1.057789</td>\n",
       "      <td>-0.437034</td>\n",
       "    </tr>\n",
       "    <tr>\n",
       "      <td>50%</td>\n",
       "      <td>74999.500000</td>\n",
       "      <td>51638.000000</td>\n",
       "      <td>2.003091e+07</td>\n",
       "      <td>30.000000</td>\n",
       "      <td>6.000000</td>\n",
       "      <td>1.000000</td>\n",
       "      <td>0.000000</td>\n",
       "      <td>0.000000</td>\n",
       "      <td>110.000000</td>\n",
       "      <td>15.000000</td>\n",
       "      <td>2196.000000</td>\n",
       "      <td>0.000000</td>\n",
       "      <td>0.0</td>\n",
       "      <td>2.016032e+07</td>\n",
       "      <td>3250.000000</td>\n",
       "      <td>44.610266</td>\n",
       "      <td>-3.052671</td>\n",
       "      <td>-0.382947</td>\n",
       "      <td>0.099722</td>\n",
       "      <td>-0.075910</td>\n",
       "      <td>0.257798</td>\n",
       "      <td>0.000812</td>\n",
       "      <td>0.095866</td>\n",
       "      <td>0.057014</td>\n",
       "      <td>0.058484</td>\n",
       "      <td>1.624076</td>\n",
       "      <td>-0.358053</td>\n",
       "      <td>-0.130753</td>\n",
       "      <td>-0.036245</td>\n",
       "      <td>0.141246</td>\n",
       "    </tr>\n",
       "    <tr>\n",
       "      <td>75%</td>\n",
       "      <td>112499.250000</td>\n",
       "      <td>118841.250000</td>\n",
       "      <td>2.007111e+07</td>\n",
       "      <td>66.000000</td>\n",
       "      <td>13.000000</td>\n",
       "      <td>3.000000</td>\n",
       "      <td>1.000000</td>\n",
       "      <td>0.000000</td>\n",
       "      <td>150.000000</td>\n",
       "      <td>15.000000</td>\n",
       "      <td>3843.000000</td>\n",
       "      <td>0.000000</td>\n",
       "      <td>0.0</td>\n",
       "      <td>2.016033e+07</td>\n",
       "      <td>7700.000000</td>\n",
       "      <td>46.004721</td>\n",
       "      <td>4.000670</td>\n",
       "      <td>0.241335</td>\n",
       "      <td>1.565838</td>\n",
       "      <td>0.868758</td>\n",
       "      <td>0.265297</td>\n",
       "      <td>0.102009</td>\n",
       "      <td>0.125243</td>\n",
       "      <td>0.079382</td>\n",
       "      <td>0.087491</td>\n",
       "      <td>2.844357</td>\n",
       "      <td>1.255022</td>\n",
       "      <td>1.776933</td>\n",
       "      <td>0.942813</td>\n",
       "      <td>0.680378</td>\n",
       "    </tr>\n",
       "    <tr>\n",
       "      <td>max</td>\n",
       "      <td>149999.000000</td>\n",
       "      <td>196812.000000</td>\n",
       "      <td>2.015121e+07</td>\n",
       "      <td>247.000000</td>\n",
       "      <td>39.000000</td>\n",
       "      <td>7.000000</td>\n",
       "      <td>6.000000</td>\n",
       "      <td>1.000000</td>\n",
       "      <td>19312.000000</td>\n",
       "      <td>15.000000</td>\n",
       "      <td>8120.000000</td>\n",
       "      <td>1.000000</td>\n",
       "      <td>0.0</td>\n",
       "      <td>2.016041e+07</td>\n",
       "      <td>99999.000000</td>\n",
       "      <td>52.304178</td>\n",
       "      <td>7.320308</td>\n",
       "      <td>19.035496</td>\n",
       "      <td>9.854702</td>\n",
       "      <td>6.829352</td>\n",
       "      <td>0.291838</td>\n",
       "      <td>0.151420</td>\n",
       "      <td>1.404936</td>\n",
       "      <td>0.160791</td>\n",
       "      <td>0.222787</td>\n",
       "      <td>12.357011</td>\n",
       "      <td>18.819042</td>\n",
       "      <td>13.847792</td>\n",
       "      <td>11.147669</td>\n",
       "      <td>8.658418</td>\n",
       "    </tr>\n",
       "  </tbody>\n",
       "</table>\n",
       "</div>"
      ],
      "text/plain": [
       "              SaleID           name       regDate          model  \\\n",
       "count  150000.000000  150000.000000  1.500000e+05  149999.000000   \n",
       "mean    74999.500000   68349.172873  2.003417e+07      47.129021   \n",
       "std     43301.414527   61103.875095  5.364988e+04      49.536040   \n",
       "min         0.000000       0.000000  1.991000e+07       0.000000   \n",
       "25%     37499.750000   11156.000000  1.999091e+07      10.000000   \n",
       "50%     74999.500000   51638.000000  2.003091e+07      30.000000   \n",
       "75%    112499.250000  118841.250000  2.007111e+07      66.000000   \n",
       "max    149999.000000  196812.000000  2.015121e+07     247.000000   \n",
       "\n",
       "               brand       bodyType       fuelType        gearbox  \\\n",
       "count  150000.000000  145494.000000  141320.000000  144019.000000   \n",
       "mean        8.052733       1.792369       0.375842       0.224943   \n",
       "std         7.864956       1.760640       0.548677       0.417546   \n",
       "min         0.000000       0.000000       0.000000       0.000000   \n",
       "25%         1.000000       0.000000       0.000000       0.000000   \n",
       "50%         6.000000       1.000000       0.000000       0.000000   \n",
       "75%        13.000000       3.000000       1.000000       0.000000   \n",
       "max        39.000000       7.000000       6.000000       1.000000   \n",
       "\n",
       "               power      kilometer     regionCode         seller  offerType  \\\n",
       "count  150000.000000  150000.000000  150000.000000  150000.000000   150000.0   \n",
       "mean      119.316547      12.597160    2583.077267       0.000007        0.0   \n",
       "std       177.168419       3.919576    1885.363218       0.002582        0.0   \n",
       "min         0.000000       0.500000       0.000000       0.000000        0.0   \n",
       "25%        75.000000      12.500000    1018.000000       0.000000        0.0   \n",
       "50%       110.000000      15.000000    2196.000000       0.000000        0.0   \n",
       "75%       150.000000      15.000000    3843.000000       0.000000        0.0   \n",
       "max     19312.000000      15.000000    8120.000000       1.000000        0.0   \n",
       "\n",
       "          creatDate          price            v_0            v_1  \\\n",
       "count  1.500000e+05  150000.000000  150000.000000  150000.000000   \n",
       "mean   2.016033e+07    5923.327333      44.406268      -0.044809   \n",
       "std    1.067328e+02    7501.998477       2.457548       3.641893   \n",
       "min    2.015062e+07      11.000000      30.451976      -4.295589   \n",
       "25%    2.016031e+07    1300.000000      43.135799      -3.192349   \n",
       "50%    2.016032e+07    3250.000000      44.610266      -3.052671   \n",
       "75%    2.016033e+07    7700.000000      46.004721       4.000670   \n",
       "max    2.016041e+07   99999.000000      52.304178       7.320308   \n",
       "\n",
       "                 v_2            v_3            v_4            v_5  \\\n",
       "count  150000.000000  150000.000000  150000.000000  150000.000000   \n",
       "mean        0.080765       0.078833       0.017875       0.248204   \n",
       "std         2.929618       2.026514       1.193661       0.045804   \n",
       "min        -4.470671      -7.275037      -4.364565       0.000000   \n",
       "25%        -0.970671      -1.462580      -0.921191       0.243615   \n",
       "50%        -0.382947       0.099722      -0.075910       0.257798   \n",
       "75%         0.241335       1.565838       0.868758       0.265297   \n",
       "max        19.035496       9.854702       6.829352       0.291838   \n",
       "\n",
       "                 v_6            v_7            v_8            v_9  \\\n",
       "count  150000.000000  150000.000000  150000.000000  150000.000000   \n",
       "mean        0.044923       0.124692       0.058144       0.061996   \n",
       "std         0.051743       0.201410       0.029186       0.035692   \n",
       "min         0.000000       0.000000       0.000000       0.000000   \n",
       "25%         0.000038       0.062474       0.035334       0.033930   \n",
       "50%         0.000812       0.095866       0.057014       0.058484   \n",
       "75%         0.102009       0.125243       0.079382       0.087491   \n",
       "max         0.151420       1.404936       0.160791       0.222787   \n",
       "\n",
       "                v_10           v_11           v_12           v_13  \\\n",
       "count  150000.000000  150000.000000  150000.000000  150000.000000   \n",
       "mean       -0.001000       0.009035       0.004813       0.000313   \n",
       "std         3.772386       3.286071       2.517478       1.288988   \n",
       "min        -9.168192      -5.558207      -9.639552      -4.153899   \n",
       "25%        -3.722303      -1.951543      -1.871846      -1.057789   \n",
       "50%         1.624076      -0.358053      -0.130753      -0.036245   \n",
       "75%         2.844357       1.255022       1.776933       0.942813   \n",
       "max        12.357011      18.819042      13.847792      11.147669   \n",
       "\n",
       "                v_14  \n",
       "count  150000.000000  \n",
       "mean       -0.000688  \n",
       "std         1.038685  \n",
       "min        -6.546556  \n",
       "25%        -0.437034  \n",
       "50%         0.141246  \n",
       "75%         0.680378  \n",
       "max         8.658418  "
      ]
     },
     "execution_count": 78,
     "metadata": {},
     "output_type": "execute_result"
    }
   ],
   "source": [
    "# 数值数据     查看描述统计特征\n",
    "# train_data.describe(include = 'all')\n",
    "train_data.describe()"
   ]
  },
  {
   "cell_type": "markdown",
   "metadata": {},
   "source": [
    "### 肉眼审查\n",
    "1. sellID 1的车发动机功率power为0，notRepairedDamage 字段为空\n",
    "2. regionCode的位数从2位到4位\n",
    "3. 匿名变量头大~~\n",
    "4. regionCode 存在为0的情况\n",
    "5. offerType 全是0，没有意义"
   ]
  },
  {
   "cell_type": "code",
   "execution_count": 66,
   "metadata": {},
   "outputs": [
    {
     "data": {
      "text/plain": [
       "<matplotlib.axes._subplots.AxesSubplot at 0x2a835654f08>"
      ]
     },
     "execution_count": 66,
     "metadata": {},
     "output_type": "execute_result"
    },
    {
     "data": {
      "image/png": "[encoded data removed]",
      "text/plain": [
       "<Figure size 432x288 with 1 Axes>"
      ]
     },
     "metadata": {
      "needs_background": "light"
     },
     "output_type": "display_data"
    }
   ],
   "source": [
    "# 检查预测目标 结果是否均衡\n",
    "# 分类问题才需要\n",
    "# print('Class',df['Class'].unique())\n",
    "# # 作分类统计\n",
    "# sns.countplot(x = 'Class', order = ['L','M','H'], data = df)"
   ]
  },
  {
   "cell_type": "code",
   "execution_count": null,
   "metadata": {},
   "outputs": [],
   "source": [
    "# 非数值数据/分类数据\n"
   ]
  },
  {
   "cell_type": "code",
   "execution_count": 9,
   "metadata": {},
   "outputs": [
    {
     "data": {
      "text/plain": [
       "Index(['SaleID', 'name', 'regDate', 'model', 'brand', 'bodyType', 'fuelType',\n",
       "       'gearbox', 'power', 'kilometer', 'notRepairedDamage', 'regionCode',\n",
       "       'seller', 'offerType', 'creatDate', 'price', 'v_0', 'v_1', 'v_2', 'v_3',\n",
       "       'v_4', 'v_5', 'v_6', 'v_7', 'v_8', 'v_9', 'v_10', 'v_11', 'v_12',\n",
       "       'v_13', 'v_14'],\n",
       "      dtype='object')"
      ]
     },
     "execution_count": 9,
     "metadata": {},
     "output_type": "execute_result"
    }
   ],
   "source": [
    "# 查看数据字段\n",
    "train_data.columns"
   ]
  },
  {
   "cell_type": "code",
   "execution_count": 10,
   "metadata": {},
   "outputs": [],
   "source": [
    "cols = ['SaleID', 'name', 'regDate', 'model', 'brand', 'bodyType', 'fuelType',\n",
    "       'gearbox', 'power', 'kilometer', 'notRepairedDamage', 'regionCode',\n",
    "       'seller', 'offerType', 'creatDate', 'price']\n",
    "cols1 = ['model', 'brand', 'bodyType', 'fuelType']\n",
    "cols2 = ['gearbox', 'power', 'kilometer', 'notRepairedDamage', 'regionCode',\n",
    "       'seller', 'offerType', 'price']\n",
    "cols_date = [ 'regDate', 'creatDate']"
   ]
  },
  {
   "cell_type": "code",
   "execution_count": 12,
   "metadata": {},
   "outputs": [
    {
     "data": {
      "text/plain": [
       "<matplotlib.axes._subplots.AxesSubplot at 0x2a878996388>"
      ]
     },
     "execution_count": 12,
     "metadata": {},
     "output_type": "execute_result"
    },
    {
     "data": {
      "image/png": "[encoded data removed]",
      "text/plain": [
       "<Figure size 432x288 with 1 Axes>"
      ]
     },
     "metadata": {
      "needs_background": "light"
     },
     "output_type": "display_data"
    }
   ],
   "source": [
    "#  # regDate 有用 有用\n",
    "train_data[['kilometer','price']].plot(kind=\"scatter\",x=\"kilometer\",y=\"price\")"
   ]
  },
  {
   "cell_type": "code",
   "execution_count": 13,
   "metadata": {},
   "outputs": [
    {
     "data": {
      "text/plain": [
       "<matplotlib.axes._subplots.AxesSubplot at 0x2a8789fc248>"
      ]
     },
     "execution_count": 13,
     "metadata": {},
     "output_type": "execute_result"
    },
    {
     "data": {
      "image/png": "[encoded data removed]",
      "text/plain": [
       "<Figure size 432x288 with 1 Axes>"
      ]
     },
     "metadata": {
      "needs_background": "light"
     },
     "output_type": "display_data"
    }
   ],
   "source": [
    "# regDate 有用\n",
    "train_data[['regDate','price']].plot(kind=\"scatter\",x=\"regDate\",y=\"price\")"
   ]
  },
  {
   "cell_type": "code",
   "execution_count": 14,
   "metadata": {},
   "outputs": [
    {
     "data": {
      "text/plain": [
       "<matplotlib.axes._subplots.AxesSubplot at 0x2a878effec8>"
      ]
     },
     "execution_count": 14,
     "metadata": {},
     "output_type": "execute_result"
    },
    {
     "data": {
      "image/png": "[encoded data removed]",
      "text/plain": [
       "<Figure size 432x288 with 1 Axes>"
      ]
     },
     "metadata": {
      "needs_background": "light"
     },
     "output_type": "display_data"
    }
   ],
   "source": [
    "# creatDate 有用\n",
    "train_data[['creatDate','price']].plot(kind=\"scatter\",x=\"creatDate\",y=\"price\")"
   ]
  },
  {
   "cell_type": "code",
   "execution_count": 15,
   "metadata": {},
   "outputs": [
    {
     "data": {
      "text/plain": [
       "<matplotlib.axes._subplots.AxesSubplot at 0x2a878b18d08>"
      ]
     },
     "execution_count": 15,
     "metadata": {},
     "output_type": "execute_result"
    },
    {
     "data": {
      "image/png": "[encoded data removed]",
      "text/plain": [
       "<Figure size 432x288 with 1 Axes>"
      ]
     },
     "metadata": {
      "needs_background": "light"
     },
     "output_type": "display_data"
    }
   ],
   "source": [
    "# model 有用\n",
    "train_data[['model','price']].plot(kind=\"scatter\",x=\"model\",y=\"price\")"
   ]
  },
  {
   "cell_type": "code",
   "execution_count": 16,
   "metadata": {},
   "outputs": [
    {
     "data": {
      "text/plain": [
       "<matplotlib.axes._subplots.AxesSubplot at 0x2a878b5ca48>"
      ]
     },
     "execution_count": 16,
     "metadata": {},
     "output_type": "execute_result"
    },
    {
     "data": {
      "image/png": "[encoded data removed]",
      "text/plain": [
       "<Figure size 432x288 with 1 Axes>"
      ]
     },
     "metadata": {
      "needs_background": "light"
     },
     "output_type": "display_data"
    }
   ],
   "source": [
    "# name 舍弃\n",
    "train_data[['name','brand','price']].plot(kind=\"scatter\",x=\"name\",y=\"price\")"
   ]
  },
  {
   "cell_type": "code",
   "execution_count": 17,
   "metadata": {},
   "outputs": [
    {
     "data": {
      "text/plain": [
       "<matplotlib.axes._subplots.AxesSubplot at 0x2a878bccac8>"
      ]
     },
     "execution_count": 17,
     "metadata": {},
     "output_type": "execute_result"
    },
    {
     "data": {
      "image/png": "[encoded data removed]",
      "text/plain": [
       "<Figure size 432x288 with 1 Axes>"
      ]
     },
     "metadata": {
      "needs_background": "light"
     },
     "output_type": "display_data"
    }
   ],
   "source": [
    "# SaleID 舍弃\n",
    "train_data[['SaleID','price']].plot(kind=\"scatter\",x=\"SaleID\",y=\"price\")"
   ]
  },
  {
   "cell_type": "code",
   "execution_count": 18,
   "metadata": {},
   "outputs": [
    {
     "data": {
      "text/plain": [
       "<matplotlib.axes._subplots.AxesSubplot at 0x2a878c92fc8>"
      ]
     },
     "execution_count": 18,
     "metadata": {},
     "output_type": "execute_result"
    },
    {
     "data": {
      "image/png": "[encoded data removed]",
      "text/plain": [
       "<Figure size 432x288 with 1 Axes>"
      ]
     },
     "metadata": {
      "needs_background": "light"
     },
     "output_type": "display_data"
    }
   ],
   "source": [
    "# brand 有用\n",
    "train_data[['brand','price']].plot(kind=\"scatter\",x=\"brand\",y=\"price\")"
   ]
  },
  {
   "cell_type": "code",
   "execution_count": 19,
   "metadata": {},
   "outputs": [
    {
     "data": {
      "text/plain": [
       "<matplotlib.axes._subplots.AxesSubplot at 0x2a878ce1708>"
      ]
     },
     "execution_count": 19,
     "metadata": {},
     "output_type": "execute_result"
    },
    {
     "data": {
      "image/png": "[encoded data removed]",
      "text/plain": [
       "<Figure size 432x288 with 1 Axes>"
      ]
     },
     "metadata": {
      "needs_background": "light"
     },
     "output_type": "display_data"
    }
   ],
   "source": [
    "# bodyType 有用\n",
    "train_data[['bodyType','price']].plot(kind=\"scatter\",x=\"bodyType\",y=\"price\")"
   ]
  },
  {
   "cell_type": "code",
   "execution_count": 20,
   "metadata": {},
   "outputs": [
    {
     "data": {
      "text/plain": [
       "<matplotlib.axes._subplots.AxesSubplot at 0x2a878d55d48>"
      ]
     },
     "execution_count": 20,
     "metadata": {},
     "output_type": "execute_result"
    },
    {
     "data": {
      "image/png": "[encoded data removed]",
      "text/plain": [
       "<Figure size 432x288 with 1 Axes>"
      ]
     },
     "metadata": {
      "needs_background": "light"
     },
     "output_type": "display_data"
    }
   ],
   "source": [
    "# fuelType 有用\n",
    "train_data[['fuelType','price']].plot(kind=\"scatter\",x=\"fuelType\",y=\"price\")"
   ]
  },
  {
   "cell_type": "code",
   "execution_count": 21,
   "metadata": {},
   "outputs": [
    {
     "data": {
      "text/plain": [
       "<matplotlib.axes._subplots.AxesSubplot at 0x2a878e48c88>"
      ]
     },
     "execution_count": 21,
     "metadata": {},
     "output_type": "execute_result"
    },
    {
     "data": {
      "image/png": "[encoded data removed]",
      "text/plain": [
       "<Figure size 432x288 with 1 Axes>"
      ]
     },
     "metadata": {
      "needs_background": "light"
     },
     "output_type": "display_data"
    }
   ],
   "source": [
    "# gearbox 无用？可考虑舍弃\n",
    "train_data[['gearbox','price']].plot(kind=\"scatter\",x=\"gearbox\",y=\"price\")"
   ]
  },
  {
   "cell_type": "code",
   "execution_count": 38,
   "metadata": {},
   "outputs": [
    {
     "name": "stdout",
     "output_type": "stream",
     "text": [
      "<class 'pandas.core.frame.DataFrame'>\n",
      "RangeIndex: 150000 entries, 0 to 149999\n",
      "Data columns (total 2 columns):\n",
      "notRepairedDamage    150000 non-null float64\n",
      "price                150000 non-null int64\n",
      "dtypes: float64(1), int64(1)\n",
      "memory usage: 2.3 MB\n"
     ]
    }
   ],
   "source": [
    "df_not_RD.info()"
   ]
  },
  {
   "cell_type": "code",
   "execution_count": 40,
   "metadata": {},
   "outputs": [
    {
     "data": {
      "text/plain": [
       "<matplotlib.axes._subplots.AxesSubplot at 0x2a83210b908>"
      ]
     },
     "execution_count": 40,
     "metadata": {},
     "output_type": "execute_result"
    },
    {
     "data": {
      "image/png": "[encoded data removed]",
      "text/plain": [
       "<Figure size 432x288 with 1 Axes>"
      ]
     },
     "metadata": {
      "needs_background": "light"
     },
     "output_type": "display_data"
    }
   ],
   "source": [
    "# notRepairedDamage 有用\n",
    "# df_notre = train_data[['notRepairedDamage','price']].dropna(axis=0, how='any', thresh=None, subset=None, inplace=False)\n",
    "# df_notre = train_data[['notRepairedDamage','price']].loc[0]+train_data[['notRepairedDamage','price']].loc[2:]\n",
    "# df_not_RD = train_data[[' notRepairedDamage','price']]\n",
    "df_not_RD = train_data[['notRepairedDamage','price']]\n",
    "df_not_RD.replace('-', -1,inplace =True) \n",
    "df_not_RD['notRepairedDamage'] = df_not_RD['notRepairedDamage'].astype('float64')\n",
    "\n",
    "df_not_RD[['notRepairedDamage','price']].plot(kind=\"scatter\",x=\"notRepairedDamage\",y=\"price\")"
   ]
  },
  {
   "cell_type": "code",
   "execution_count": 41,
   "metadata": {},
   "outputs": [
    {
     "data": {
      "text/plain": [
       "<matplotlib.axes._subplots.AxesSubplot at 0x2a83279e208>"
      ]
     },
     "execution_count": 41,
     "metadata": {},
     "output_type": "execute_result"
    },
    {
     "data": {
      "image/png": "[encoded data removed]",
      "text/plain": [
       "<Figure size 432x288 with 1 Axes>"
      ]
     },
     "metadata": {
      "needs_background": "light"
     },
     "output_type": "display_data"
    }
   ],
   "source": [
    "# regionCode 有用\n",
    "train_data[['regionCode','price']].plot(kind=\"scatter\",x=\"regionCode\",y=\"price\")"
   ]
  },
  {
   "cell_type": "code",
   "execution_count": 42,
   "metadata": {},
   "outputs": [
    {
     "data": {
      "text/plain": [
       "<matplotlib.axes._subplots.AxesSubplot at 0x2a832e5cd88>"
      ]
     },
     "execution_count": 42,
     "metadata": {},
     "output_type": "execute_result"
    },
    {
     "data": {
      "image/png": "[encoded data removed]",
      "text/plain": [
       "<Figure size 432x288 with 1 Axes>"
      ]
     },
     "metadata": {
      "needs_background": "light"
     },
     "output_type": "display_data"
    }
   ],
   "source": [
    "# regionCode 无用\n",
    "train_data[['seller','price']].plot(kind=\"scatter\",x=\"seller\",y=\"price\")"
   ]
  },
  {
   "cell_type": "code",
   "execution_count": 44,
   "metadata": {},
   "outputs": [
    {
     "data": {
      "text/plain": [
       "<matplotlib.axes._subplots.AxesSubplot at 0x2a83316a2c8>"
      ]
     },
     "execution_count": 44,
     "metadata": {},
     "output_type": "execute_result"
    },
    {
     "data": {
      "image/png": "[encoded data removed]",
      "text/plain": [
       "<Figure size 432x288 with 1 Axes>"
      ]
     },
     "metadata": {
      "needs_background": "light"
     },
     "output_type": "display_data"
    }
   ],
   "source": [
    "# offerType 无用\n",
    "train_data[['offerType','price']].plot(kind=\"scatter\",x=\"offerType\",y=\"price\")"
   ]
  },
  {
   "cell_type": "code",
   "execution_count": 57,
   "metadata": {},
   "outputs": [],
   "source": [
    "cols_baseline = ['regDate', 'model', 'brand', 'bodyType', 'fuelType',\n",
    "       'gearbox', 'power', 'kilometer', 'notRepairedDamage', 'regionCode',\n",
    "        'creatDate', 'price']"
   ]
  },
  {
   "cell_type": "code",
   "execution_count": 46,
   "metadata": {},
   "outputs": [],
   "source": [
    "train_data_baseline = train_data[cols_baseline]"
   ]
  },
  {
   "cell_type": "code",
   "execution_count": 91,
   "metadata": {},
   "outputs": [
    {
     "data": {
      "text/plain": [
       "<matplotlib.axes._subplots.AxesSubplot at 0x2a803e88688>"
      ]
     },
     "execution_count": 91,
     "metadata": {},
     "output_type": "execute_result"
    },
    {
     "data": {
      "image/png": "[encoded data removed]",
      "text/plain": [
       "<Figure size 432x288 with 1 Axes>"
      ]
     },
     "metadata": {
      "needs_background": "light"
     },
     "output_type": "display_data"
    }
   ],
   "source": [
    "# 查看数据分布\n",
    "train_data_baseline[['power']].plot(kind=\"hist\")"
   ]
  },
  {
   "cell_type": "code",
   "execution_count": 92,
   "metadata": {},
   "outputs": [
    {
     "data": {
      "text/plain": [
       "<matplotlib.axes._subplots.AxesSubplot at 0x2a804074848>"
      ]
     },
     "execution_count": 92,
     "metadata": {},
     "output_type": "execute_result"
    },
    {
     "data": {
      "image/png": "[encoded data removed]",
      "text/plain": [
       "<Figure size 432x288 with 1 Axes>"
      ]
     },
     "metadata": {
      "needs_background": "light"
     },
     "output_type": "display_data"
    }
   ],
   "source": [
    "train_data_baseline[['kilometer']].plot(kind=\"hist\")"
   ]
  },
  {
   "cell_type": "code",
   "execution_count": null,
   "metadata": {},
   "outputs": [],
   "source": [
    "train_data_baseline[['price']].plot(kind=\"hist\")"
   ]
  },
  {
   "cell_type": "code",
   "execution_count": 83,
   "metadata": {},
   "outputs": [
    {
     "data": {
      "text/plain": [
       "<matplotlib.axes._subplots.AxesSubplot at 0x2a83a3f6cc8>"
      ]
     },
     "execution_count": 83,
     "metadata": {},
     "output_type": "execute_result"
    },
    {
     "data": {
      "image/png": "[encoded data removed]",
      "text/plain": [
       "<Figure size 432x288 with 1 Axes>"
      ]
     },
     "metadata": {
      "needs_background": "light"
     },
     "output_type": "display_data"
    }
   ],
   "source": [
    "# 分类数据分布\n",
    "# SaleID\tname\tregDate\tmodel\tbrand\tbodyType\tfuelType\tgearbox\tpower\tkilometer\tregionCode\tseller\tofferType\tcreatDate\tprice\n",
    "sns.countplot(x='gearbox', data=train_data_baseline)"
   ]
  },
  {
   "cell_type": "code",
   "execution_count": 85,
   "metadata": {},
   "outputs": [
    {
     "data": {
      "text/plain": [
       "<matplotlib.axes._subplots.AxesSubplot at 0x2a83a47a708>"
      ]
     },
     "execution_count": 85,
     "metadata": {},
     "output_type": "execute_result"
    },
    {
     "data": {
      "image/png": "[encoded data removed]",
      "text/plain": [
       "<Figure size 432x288 with 1 Axes>"
      ]
     },
     "metadata": {
      "needs_background": "light"
     },
     "output_type": "display_data"
    }
   ],
   "source": [
    "sns.countplot(x='fuelType', data=train_data_baseline)"
   ]
  },
  {
   "cell_type": "code",
   "execution_count": 84,
   "metadata": {},
   "outputs": [
    {
     "data": {
      "text/plain": [
       "<matplotlib.axes._subplots.AxesSubplot at 0x2a83a409d48>"
      ]
     },
     "execution_count": 84,
     "metadata": {},
     "output_type": "execute_result"
    },
    {
     "data": {
      "image/png": "[encoded data removed]",
      "text/plain": [
       "<Figure size 432x288 with 1 Axes>"
      ]
     },
     "metadata": {
      "needs_background": "light"
     },
     "output_type": "display_data"
    }
   ],
   "source": [
    "sns.countplot(x='bodyType', data=train_data_baseline)"
   ]
  },
  {
   "cell_type": "markdown",
   "metadata": {},
   "source": [
    "# 数据的分布分析\n",
    "0. 初步选取，除匿名字段外可用字段为： 'regDate', 'model', 'brand', 'bodyType', 'fuelType','gearbox', 'power', 'kilometer', 'notRepairedDamage', 'regionCode','creatDate', 'price'\n",
    "1. power 存在极大异常值，但是lgbm和xgb似乎对异常值不敏感，可以不处理\n",
    "2. kilometer集中分布在12万千米以后\n",
    "3. gearbox 手动挡（0）的数量是自动挡数量的4倍\n",
    "4. fuelType 样本集中在0和1（汽油和柴油车） \n",
    "5. bodyType 看着还挺和谐\n",
    "## emmm,具体说明了什么呢？\n",
    "1. 需要和测试集去对比，看看数据的分布是否大体一致\n",
    "2. 还是说要想办法处理成正太分布？"
   ]
  },
  {
   "cell_type": "code",
   "execution_count": 76,
   "metadata": {},
   "outputs": [
    {
     "data": {
      "text/html": [
       "<div>\n",
       "<style scoped>\n",
       "    .dataframe tbody tr th:only-of-type {\n",
       "        vertical-align: middle;\n",
       "    }\n",
       "\n",
       "    .dataframe tbody tr th {\n",
       "        vertical-align: top;\n",
       "    }\n",
       "\n",
       "    .dataframe thead th {\n",
       "        text-align: right;\n",
       "    }\n",
       "</style>\n",
       "<table border=\"1\" class=\"dataframe\">\n",
       "  <thead>\n",
       "    <tr style=\"text-align: right;\">\n",
       "      <th></th>\n",
       "      <th>regDate</th>\n",
       "      <th>model</th>\n",
       "      <th>brand</th>\n",
       "      <th>bodyType</th>\n",
       "      <th>fuelType</th>\n",
       "      <th>gearbox</th>\n",
       "      <th>power</th>\n",
       "      <th>kilometer</th>\n",
       "      <th>regionCode</th>\n",
       "      <th>creatDate</th>\n",
       "      <th>price</th>\n",
       "    </tr>\n",
       "  </thead>\n",
       "  <tbody>\n",
       "    <tr>\n",
       "      <td>regDate</td>\n",
       "      <td>1.000000</td>\n",
       "      <td>0.148780</td>\n",
       "      <td>0.033199</td>\n",
       "      <td>0.102864</td>\n",
       "      <td>0.276227</td>\n",
       "      <td>0.142631</td>\n",
       "      <td>0.097446</td>\n",
       "      <td>-0.492852</td>\n",
       "      <td>-0.004783</td>\n",
       "      <td>-0.001293</td>\n",
       "      <td>0.611959</td>\n",
       "    </tr>\n",
       "    <tr>\n",
       "      <td>model</td>\n",
       "      <td>0.148780</td>\n",
       "      <td>1.000000</td>\n",
       "      <td>0.358765</td>\n",
       "      <td>0.207208</td>\n",
       "      <td>0.048767</td>\n",
       "      <td>0.019314</td>\n",
       "      <td>0.031245</td>\n",
       "      <td>-0.087445</td>\n",
       "      <td>0.010241</td>\n",
       "      <td>-0.004383</td>\n",
       "      <td>0.136983</td>\n",
       "    </tr>\n",
       "    <tr>\n",
       "      <td>brand</td>\n",
       "      <td>0.033199</td>\n",
       "      <td>0.358765</td>\n",
       "      <td>1.000000</td>\n",
       "      <td>0.114116</td>\n",
       "      <td>-0.079566</td>\n",
       "      <td>0.012914</td>\n",
       "      <td>-0.022391</td>\n",
       "      <td>-0.096262</td>\n",
       "      <td>-0.002326</td>\n",
       "      <td>-0.001466</td>\n",
       "      <td>-0.043799</td>\n",
       "    </tr>\n",
       "    <tr>\n",
       "      <td>bodyType</td>\n",
       "      <td>0.102864</td>\n",
       "      <td>0.207208</td>\n",
       "      <td>0.114116</td>\n",
       "      <td>1.000000</td>\n",
       "      <td>0.118717</td>\n",
       "      <td>0.099966</td>\n",
       "      <td>0.079632</td>\n",
       "      <td>-0.053212</td>\n",
       "      <td>0.017380</td>\n",
       "      <td>0.002508</td>\n",
       "      <td>0.241303</td>\n",
       "    </tr>\n",
       "    <tr>\n",
       "      <td>fuelType</td>\n",
       "      <td>0.276227</td>\n",
       "      <td>0.048767</td>\n",
       "      <td>-0.079566</td>\n",
       "      <td>0.118717</td>\n",
       "      <td>1.000000</td>\n",
       "      <td>0.171692</td>\n",
       "      <td>0.059315</td>\n",
       "      <td>0.099446</td>\n",
       "      <td>-0.012507</td>\n",
       "      <td>-0.001081</td>\n",
       "      <td>0.200536</td>\n",
       "    </tr>\n",
       "    <tr>\n",
       "      <td>gearbox</td>\n",
       "      <td>0.142631</td>\n",
       "      <td>0.019314</td>\n",
       "      <td>0.012914</td>\n",
       "      <td>0.099966</td>\n",
       "      <td>0.171692</td>\n",
       "      <td>1.000000</td>\n",
       "      <td>0.156706</td>\n",
       "      <td>-0.046807</td>\n",
       "      <td>-0.022640</td>\n",
       "      <td>-0.002538</td>\n",
       "      <td>0.329075</td>\n",
       "    </tr>\n",
       "    <tr>\n",
       "      <td>power</td>\n",
       "      <td>0.097446</td>\n",
       "      <td>0.031245</td>\n",
       "      <td>-0.022391</td>\n",
       "      <td>0.079632</td>\n",
       "      <td>0.059315</td>\n",
       "      <td>0.156706</td>\n",
       "      <td>1.000000</td>\n",
       "      <td>-0.019631</td>\n",
       "      <td>0.004422</td>\n",
       "      <td>0.001280</td>\n",
       "      <td>0.219834</td>\n",
       "    </tr>\n",
       "    <tr>\n",
       "      <td>kilometer</td>\n",
       "      <td>-0.492852</td>\n",
       "      <td>-0.087445</td>\n",
       "      <td>-0.096262</td>\n",
       "      <td>-0.053212</td>\n",
       "      <td>0.099446</td>\n",
       "      <td>-0.046807</td>\n",
       "      <td>-0.019631</td>\n",
       "      <td>1.000000</td>\n",
       "      <td>-0.010590</td>\n",
       "      <td>0.004718</td>\n",
       "      <td>-0.440519</td>\n",
       "    </tr>\n",
       "    <tr>\n",
       "      <td>regionCode</td>\n",
       "      <td>-0.004783</td>\n",
       "      <td>0.010241</td>\n",
       "      <td>-0.002326</td>\n",
       "      <td>0.017380</td>\n",
       "      <td>-0.012507</td>\n",
       "      <td>-0.022640</td>\n",
       "      <td>0.004422</td>\n",
       "      <td>-0.010590</td>\n",
       "      <td>1.000000</td>\n",
       "      <td>0.002717</td>\n",
       "      <td>0.014036</td>\n",
       "    </tr>\n",
       "    <tr>\n",
       "      <td>creatDate</td>\n",
       "      <td>-0.001293</td>\n",
       "      <td>-0.004383</td>\n",
       "      <td>-0.001466</td>\n",
       "      <td>0.002508</td>\n",
       "      <td>-0.001081</td>\n",
       "      <td>-0.002538</td>\n",
       "      <td>0.001280</td>\n",
       "      <td>0.004718</td>\n",
       "      <td>0.002717</td>\n",
       "      <td>1.000000</td>\n",
       "      <td>0.002955</td>\n",
       "    </tr>\n",
       "    <tr>\n",
       "      <td>price</td>\n",
       "      <td>0.611959</td>\n",
       "      <td>0.136983</td>\n",
       "      <td>-0.043799</td>\n",
       "      <td>0.241303</td>\n",
       "      <td>0.200536</td>\n",
       "      <td>0.329075</td>\n",
       "      <td>0.219834</td>\n",
       "      <td>-0.440519</td>\n",
       "      <td>0.014036</td>\n",
       "      <td>0.002955</td>\n",
       "      <td>1.000000</td>\n",
       "    </tr>\n",
       "  </tbody>\n",
       "</table>\n",
       "</div>"
      ],
      "text/plain": [
       "             regDate     model     brand  bodyType  fuelType   gearbox  \\\n",
       "regDate     1.000000  0.148780  0.033199  0.102864  0.276227  0.142631   \n",
       "model       0.148780  1.000000  0.358765  0.207208  0.048767  0.019314   \n",
       "brand       0.033199  0.358765  1.000000  0.114116 -0.079566  0.012914   \n",
       "bodyType    0.102864  0.207208  0.114116  1.000000  0.118717  0.099966   \n",
       "fuelType    0.276227  0.048767 -0.079566  0.118717  1.000000  0.171692   \n",
       "gearbox     0.142631  0.019314  0.012914  0.099966  0.171692  1.000000   \n",
       "power       0.097446  0.031245 -0.022391  0.079632  0.059315  0.156706   \n",
       "kilometer  -0.492852 -0.087445 -0.096262 -0.053212  0.099446 -0.046807   \n",
       "regionCode -0.004783  0.010241 -0.002326  0.017380 -0.012507 -0.022640   \n",
       "creatDate  -0.001293 -0.004383 -0.001466  0.002508 -0.001081 -0.002538   \n",
       "price       0.611959  0.136983 -0.043799  0.241303  0.200536  0.329075   \n",
       "\n",
       "               power  kilometer  regionCode  creatDate     price  \n",
       "regDate     0.097446  -0.492852   -0.004783  -0.001293  0.611959  \n",
       "model       0.031245  -0.087445    0.010241  -0.004383  0.136983  \n",
       "brand      -0.022391  -0.096262   -0.002326  -0.001466 -0.043799  \n",
       "bodyType    0.079632  -0.053212    0.017380   0.002508  0.241303  \n",
       "fuelType    0.059315   0.099446   -0.012507  -0.001081  0.200536  \n",
       "gearbox     0.156706  -0.046807   -0.022640  -0.002538  0.329075  \n",
       "power       1.000000  -0.019631    0.004422   0.001280  0.219834  \n",
       "kilometer  -0.019631   1.000000   -0.010590   0.004718 -0.440519  \n",
       "regionCode  0.004422  -0.010590    1.000000   0.002717  0.014036  \n",
       "creatDate   0.001280   0.004718    0.002717   1.000000  0.002955  \n",
       "price       0.219834  -0.440519    0.014036   0.002955  1.000000  "
      ]
     },
     "execution_count": 76,
     "metadata": {},
     "output_type": "execute_result"
    }
   ],
   "source": [
    "# Correlation Matrix 相关性矩阵\n",
    "cols_baseline = ['regDate', 'model', 'brand', 'bodyType', 'fuelType',\n",
    "       'gearbox', 'power', 'kilometer', 'notRepairedDamage', 'regionCode',\n",
    "        'creatDate', 'price']\n",
    "corr = train_data[cols_baseline].corr()\n",
    "corr"
   ]
  },
  {
   "cell_type": "code",
   "execution_count": 77,
   "metadata": {},
   "outputs": [
    {
     "data": {
      "text/plain": [
       "<matplotlib.axes._subplots.AxesSubplot at 0x2a839d03b88>"
      ]
     },
     "execution_count": 77,
     "metadata": {},
     "output_type": "execute_result"
    },
    {
     "data": {
      "image/png": "[encoded data removed]",
      "text/plain": [
       "<Figure size 432x288 with 2 Axes>"
      ]
     },
     "metadata": {
      "needs_background": "light"
     },
     "output_type": "display_data"
    }
   ],
   "source": [
    "sns.heatmap(corr, \n",
    "        xticklabels=corr.columns,\n",
    "        yticklabels=corr.columns)"
   ]
  },
  {
   "cell_type": "markdown",
   "metadata": {},
   "source": [
    "# 相关性分析\n",
    "1. 上图可以说明，变量两两之间没有线性相关\n",
    "2. 可以进一步去分析非线性相关，具体可以去抄参考优秀作业\n"
   ]
  }
 ],
 "metadata": {
  "kernelspec": {
   "display_name": "Python 3",
   "language": "python",
   "name": "python3"
  },
  "language_info": {
   "codemirror_mode": {
    "name": "ipython",
    "version": 3
   },
   "file_extension": ".py",
   "mimetype": "text/x-python",
   "name": "python",
   "nbconvert_exporter": "python",
   "pygments_lexer": "ipython3",
   "version": "3.7.4"
  }
 },
 "nbformat": 4,
 "nbformat_minor": 2
}
